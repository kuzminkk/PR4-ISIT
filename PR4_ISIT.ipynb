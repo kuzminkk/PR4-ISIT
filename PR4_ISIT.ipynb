{
  "nbformat": 4,
  "nbformat_minor": 0,
  "metadata": {
    "colab": {
      "provenance": []
    },
    "kernelspec": {
      "name": "python3",
      "display_name": "Python 3"
    },
    "language_info": {
      "name": "python"
    }
  },
  "cells": [
    {
      "cell_type": "code",
      "source": [
        "def equalize_glasses(glasses):\n",
        "\n",
        "    total_compote = sum(glasses)\n",
        "    num_glasses = len(glasses)\n",
        "\n",
        "    # Проверка, возможно ли уравнять количество компота\n",
        "    if total_compote % num_glasses != 0:\n",
        "        print(\"Невозможно уравнять количество компота во всех стаканах\")\n",
        "        return\n",
        "\n",
        "    # Среднее количество компота в каждом стакане\n",
        "    target = total_compote // num_glasses\n",
        "    print(f\"Цель: сделать так, чтобы в каждом стакане было {target} л\")\n",
        "\n",
        "    # Подсчёт переливаний\n",
        "    transfers = []\n",
        "    for i in range(num_glasses):\n",
        "        if glasses[i] < target:\n",
        "            # Нужен компот - переливаем из других стаканов\n",
        "            for j in range(num_glasses):\n",
        "                if glasses[j] > target and glasses[i] < target:\n",
        "                    transfer = min(target - glasses[i], glasses[j] - target)\n",
        "                    glasses[i] += transfer\n",
        "                    glasses[j] -= transfer\n",
        "                    transfers.append((j + 1, i + 1, transfer))\n",
        "        elif glasses[i] > target:\n",
        "            # Переливаем лишний компот в другие стаканы\n",
        "            for j in range(num_glasses):\n",
        "                if glasses[j] < target and glasses[i] > target:\n",
        "                    transfer = min(glasses[i] - target, target - glasses[j])\n",
        "                    glasses[j] += transfer\n",
        "                    glasses[i] -= transfer\n",
        "                    transfers.append((i + 1, j + 1, transfer))\n",
        "\n",
        "    print(f\"Минимальное количество переливаний: {len(transfers)}\")\n",
        "    print(\"Переливания:\")\n",
        "    for t in transfers:\n",
        "        print(f\"Переливаем {t[2]} л из стакана {t[0]} в стакан {t[1]}\")\n",
        "\n",
        "def main():\n",
        "    try:\n",
        "\n",
        "        k = int(input(\"Введите количество стаканов: \"))\n",
        "        if k <= 0:\n",
        "            print(\"Количество стаканов должно быть положительным числом\")\n",
        "            return\n",
        "\n",
        "        glasses = []\n",
        "        for i in range(k):\n",
        "            liters = int(input(f\"Введите количество литров компота в стакане {i + 1}: \"))\n",
        "            if liters < 0:\n",
        "                print(\"Количество литров компота не может быть отрицательным\")\n",
        "                return\n",
        "            glasses.append(liters)\n",
        "\n",
        "\n",
        "        print(\"\\nНачальное состояние стаканов:\", glasses)\n",
        "        equalize_glasses(glasses)\n",
        "\n",
        "    except ValueError:\n",
        "        print(\"Ошибка ввода! Убедитесь, что вводите только целые числа.\")\n",
        "\n",
        "main()\n"
      ],
      "metadata": {
        "colab": {
          "base_uri": "https://localhost:8080/"
        },
        "id": "WepTAWImYP_8",
        "outputId": "7b2ea305-1747-4c77-cbc0-4b13f20b53c8"
      },
      "execution_count": 19,
      "outputs": [
        {
          "output_type": "stream",
          "name": "stdout",
          "text": [
            "Введите количество стаканов: 4\n",
            "Введите количество литров компота в стакане 1: 8\n",
            "Введите количество литров компота в стакане 2: 6\n",
            "Введите количество литров компота в стакане 3: 5\n",
            "Введите количество литров компота в стакане 4: 5\n",
            "\n",
            "Начальное состояние стаканов: [8, 6, 5, 5]\n",
            "Цель: сделать так, чтобы в каждом стакане было 6 л\n",
            "Минимальное количество переливаний: 2\n",
            "Переливания:\n",
            "Переливаем 1 л из стакана 1 в стакан 3\n",
            "Переливаем 1 л из стакана 1 в стакан 4\n"
          ]
        }
      ]
    }
  ]
}